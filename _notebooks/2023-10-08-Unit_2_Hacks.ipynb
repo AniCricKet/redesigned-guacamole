{
 "cells": [
  {
   "cell_type": "markdown",
   "metadata": {},
   "source": [
    "---\n",
    "toc: true\n",
    "comments: true\n",
    "layout: post\n",
    "title: Hacks for the Unit 2 Student Lesson\n",
    "description: Unit 2 - Using Objects Hacks\n",
    "type: hacks\n",
    "courses: {csa: {week: 8}}\n",
    "---"
   ]
  },
  {
   "cell_type": "markdown",
   "metadata": {},
   "source": [
    "### Hack 1"
   ]
  },
  {
   "cell_type": "code",
   "execution_count": 4,
   "metadata": {},
   "outputs": [
    {
     "name": "stdout",
     "output_type": "stream",
     "text": [
      "Number at index 1: 20\n"
     ]
    }
   ],
   "source": [
    "import java.util.ArrayList;\n",
    "\n",
    "public class ArrayListExample {\n",
    "    private ArrayList<Integer> integerList = new ArrayList<>();\n",
    "    public void addIntegerToList(int number) {\n",
    "        integerList.add(number);\n",
    "    }\n",
    "\n",
    "    public int getIntegerAtIndex(int index) {\n",
    "        if (index >= 0 && index < integerList.size()) {\n",
    "            return integerList.get(index);\n",
    "        } else {\n",
    "            throw new IndexOutOfBoundsException(\"Index is out of bounds.\");\n",
    "        }\n",
    "    }\n",
    "\n",
    "    public static void main(String[] args) {\n",
    "        ArrayListExample example = new ArrayListExample();\n",
    "        example.addIntegerToList(10);\n",
    "        example.addIntegerToList(20);\n",
    "        example.addIntegerToList(30);\n",
    "        int retrievedNumber = example.getIntegerAtIndex(1);\n",
    "        System.out.println(\"Number at index 1: \" + retrievedNumber);\n",
    "    }\n",
    "}\n",
    "\n",
    "ArrayListExample.main(null);"
   ]
  },
  {
   "cell_type": "markdown",
   "metadata": {},
   "source": [
    "### Hack 2"
   ]
  },
  {
   "cell_type": "code",
   "execution_count": 5,
   "metadata": {},
   "outputs": [
    {
     "name": "stdout",
     "output_type": "stream",
     "text": [
      "Welcome to the Number Guessing Game!\n",
      "You need to guess the root and exponent of a number.\n",
      "Here's a hint: The number is a root of 2.282116664503402 raised to the power of 3.\n",
      "Enter your guess for the root: Enter your guess for the exponent: Sorry, your guess is incorrect.\n",
      "The correct answer is: 1.316576040632286 raised to the power of 3\n"
     ]
    }
   ],
   "source": [
    "import java.util.Random;\n",
    "import java.util.Scanner;\n",
    "\n",
    "public class NumberGuessingGame {\n",
    "    private static Random random = new Random();\n",
    "    private double base;\n",
    "    private int exponent;\n",
    "\n",
    "    public NumberGuessingGame() {\n",
    "        base = random.nextDouble() * 8 + 2;\n",
    "        exponent = random.nextInt(5) + 1;\n",
    "    }\n",
    "\n",
    "    public void play() {\n",
    "        System.out.println(\"Welcome to the Number Guessing Game!\");\n",
    "        System.out.println(\"You need to guess the root and exponent of a number.\");\n",
    "        System.out.println(\"Here's a hint: The number is a root of \" + base + \" raised to the power of \" + exponent + \".\");\n",
    "        \n",
    "        Scanner scanner = new Scanner(System.in);\n",
    "        System.out.print(\"Enter your guess for the root: \");\n",
    "        double guessedRoot = scanner.nextDouble();\n",
    "        System.out.print(\"Enter your guess for the exponent: \");\n",
    "        int guessedExponent = scanner.nextInt();\n",
    "\n",
    "        if (guessedRoot == Math.pow(base, 1.0 / exponent) && guessedExponent == exponent) {\n",
    "            System.out.println(\"Congratulations! You guessed correctly!\");\n",
    "        } else {\n",
    "            System.out.println(\"Sorry, your guess is incorrect.\");\n",
    "            System.out.println(\"The correct answer is: \" + Math.pow(base, 1.0 / exponent) + \" raised to the power of \" + exponent);\n",
    "        }\n",
    "    }\n",
    "\n",
    "    public static void main(String[] args) {\n",
    "        NumberGuessingGame game = new NumberGuessingGame();\n",
    "        game.play();\n",
    "    }\n",
    "}\n",
    "\n",
    "NumberGuessingGame.main(null);"
   ]
  },
  {
   "cell_type": "markdown",
   "metadata": {},
   "source": [
    "### Hack 3"
   ]
  },
  {
   "cell_type": "code",
   "execution_count": 6,
   "metadata": {},
   "outputs": [
    {
     "name": "stdout",
     "output_type": "stream",
     "text": [
      "Int Value: 42\n",
      "Boolean Value: true\n",
      "String Value: Hello, World!\n",
      "Double Value: 3.14\n"
     ]
    }
   ],
   "source": [
    "public class MyClass {\n",
    "    private int intValue;\n",
    "    private boolean booleanValue;\n",
    "    private String stringValue;\n",
    "    private double doubleValue;\n",
    "\n",
    "    public MyClass(int intValue, boolean booleanValue, String stringValue, double doubleValue) {\n",
    "        this.intValue = intValue;\n",
    "        this.booleanValue = booleanValue;\n",
    "        this.stringValue = stringValue;\n",
    "        this.doubleValue = doubleValue;\n",
    "    }\n",
    "\n",
    "    public int getIntValue() {\n",
    "        return intValue;\n",
    "    }\n",
    "\n",
    "    public boolean isBooleanValue() {\n",
    "        return booleanValue;\n",
    "    }\n",
    "\n",
    "    public String getStringValue() {\n",
    "        return stringValue;\n",
    "    }\n",
    "\n",
    "    public double getDoubleValue() {\n",
    "        return doubleValue;\n",
    "    }\n",
    "\n",
    "    public static void main(String[] args) {\n",
    "        MyClass myObject = new MyClass(42, true, \"Hello, World!\", 3.14);\n",
    "\n",
    "        System.out.println(\"Int Value: \" + myObject.getIntValue());\n",
    "        System.out.println(\"Boolean Value: \" + myObject.isBooleanValue());\n",
    "        System.out.println(\"String Value: \" + myObject.getStringValue());\n",
    "        System.out.println(\"Double Value: \" + myObject.getDoubleValue());\n",
    "    }\n",
    "}\n",
    "\n",
    "MyClass.main(null);"
   ]
  },
  {
   "cell_type": "markdown",
   "metadata": {},
   "source": [
    "### Hack 4"
   ]
  },
  {
   "cell_type": "code",
   "execution_count": 8,
   "metadata": {},
   "outputs": [
    {
     "name": "stdout",
     "output_type": "stream",
     "text": [
      "First Name: John\n",
      "Last Name: Mortensen\n"
     ]
    }
   ],
   "source": [
    "public class PersonNameParser {\n",
    "    private String fullName;\n",
    "\n",
    "    public PersonNameParser(String fullName) {\n",
    "        this.fullName = fullName;\n",
    "    }\n",
    "\n",
    "    public String getFirstName() {\n",
    "        int spaceIndex = fullName.indexOf(' ');\n",
    "        if (spaceIndex != -1) {\n",
    "            return fullName.substring(0, spaceIndex);\n",
    "        } else {\n",
    "            return fullName;\n",
    "        }\n",
    "    }\n",
    "\n",
    "    public String getLastName() {\n",
    "        int spaceIndex = fullName.indexOf(' ');\n",
    "        if (spaceIndex != -1 && spaceIndex < fullName.length() - 1) {\n",
    "            return fullName.substring(spaceIndex + 1);\n",
    "        } else {\n",
    "            return \"\";\n",
    "        }\n",
    "    }\n",
    "\n",
    "    public static void main(String[] args) {\n",
    "        PersonNameParser person = new PersonNameParser(\"John Mortensen\");\n",
    "\n",
    "        System.out.println(\"First Name: \" + person.getFirstName());\n",
    "        System.out.println(\"Last Name: \" + person.getLastName());\n",
    "    }\n",
    "}\n",
    "\n",
    "PersonNameParser.main(null);"
   ]
  }
 ],
 "metadata": {
  "kernelspec": {
   "display_name": "Java",
   "language": "java",
   "name": "java"
  },
  "language_info": {
   "codemirror_mode": "java",
   "file_extension": ".jshell",
   "mimetype": "text/x-java-source",
   "name": "java",
   "pygments_lexer": "java",
   "version": "17.0.5+9-LTS-191"
  }
 },
 "nbformat": 4,
 "nbformat_minor": 2
}
