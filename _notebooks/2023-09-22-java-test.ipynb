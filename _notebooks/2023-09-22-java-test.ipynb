{
 "cells": [
  {
   "cell_type": "markdown",
   "metadata": {},
   "source": [
    "---\n",
    "toc: true\n",
    "comments: true\n",
    "layout: post\n",
    "title: Java Test CSA\n",
    "description: Test on Java Arrays\n",
    "type: hacks\n",
    "courses: {csa: {week: 5}}\n",
    "---"
   ]
  },
  {
   "cell_type": "code",
   "execution_count": 32,
   "metadata": {},
   "outputs": [
    {
     "ename": "CompilationException",
     "evalue": "",
     "output_type": "error",
     "traceback": [
      "\u001b[1m\u001b[30m|   \u001b[1m\u001b[30mpublic Class initializeKeypad\u001b[0m\u001b[1m\u001b[30m\u001b[41m\u001b[0m\u001b[1m\u001b[30m{\u001b[0m",
      "\u001b[1m\u001b[31m';' expected\u001b[0m",
      ""
     ]
    }
   ],
   "source": [
    "public Class initializeKeypad{\n",
    "    public static void main(String[] args){\n",
    "        int[][] arr = {{1, 2, 3}, {4, 5, 6}, {7, 8, 9}, {\"\",0, \"\"}};\n",
    "    }\n",
    "    for (in)\n",
    "};\n",
    "\n",
    "initializeKeypad.main(null);\n",
    "\n"
   ]
  },
  {
   "cell_type": "code",
   "execution_count": 43,
   "metadata": {},
   "outputs": [
    {
     "ename": "CompilationException",
     "evalue": "",
     "output_type": "error",
     "traceback": [
      "\u001b[1m\u001b[30m|   \u001b[1m\u001b[30m\u001b[0m\u001b[1m\u001b[30m\u001b[41mpublic void reverseArray\u001b[0m\u001b[1m\u001b[30m{\u001b[0m",
      "\u001b[1m\u001b[31m'(' expected\u001b[0m",
      ""
     ]
    }
   ],
   "source": [
    "public void reverseArray{(\n",
    "    int[] arr2 = {10, 9, 8, 7, 6, 5, 4, 3, 2, 1};\n",
    "    System.out.println(arr2);\n",
    "    int[] reverse = arr2;\n",
    "    for (int i = 0; i < reverse.length; i++) {\n",
    "        int temp = reverse[i];\n",
    "        reverse[i] = reverse[(reverse.length - 1 - i)];\n",
    "        reverse[(reverse.length - 1 - i)] = int temp ;\n",
    "    };\n",
    "    System.out.println(arr2);\n",
    ")}"
   ]
  },
  {
   "cell_type": "code",
   "execution_count": 10,
   "metadata": {},
   "outputs": [
    {
     "ename": "UnresolvedReferenceException",
     "evalue": "Attempt to use definition snippet with unresolved references in MethodSnippet:main/(String[])void-public static void main(String[] args) {\n    System.out.println(\"Keypad\");\n    initializeKeypad();\n\n    System.out.println(\"\\nReversed Array:\");\n    reverseArray();\n\n    System.out.println(\"\\n\\nRandom List:\");\n    ArrayList<Integer> randomList = initializeRandomList(5, 2, 8);\n    System.out.println(randomList); \n}",
     "output_type": "error",
     "traceback": [
      "\u001b[1m\u001b[30m|   \u001b[1m\u001b[30mpublic static void main(String[] args) {\u001b[0m",
      "\u001b[1m\u001b[30m|   \u001b[1m\u001b[30m    System.out.println(\"Keypad\");\u001b[0m",
      "\u001b[1m\u001b[30m|   \u001b[1m\u001b[30m    initializeKeypad();\u001b[0m",
      "\u001b[1m\u001b[30m|   \u001b[1m\u001b[30m\u001b[0m",
      "\u001b[1m\u001b[30m|   \u001b[1m\u001b[30m    System.out.println(\"\\nReversed Array:\");\u001b[0m",
      "\u001b[1m\u001b[30m|   \u001b[1m\u001b[30m    reverseArray();\u001b[0m",
      "\u001b[1m\u001b[30m|   \u001b[1m\u001b[30m\u001b[0m",
      "\u001b[1m\u001b[30m|   \u001b[1m\u001b[30m    System.out.println(\"\\n\\nRandom List:\");\u001b[0m",
      "\u001b[1m\u001b[30m|   \u001b[1m\u001b[30m    ArrayList<Integer> randomList = initializeRandomList(5, 2, 8);\u001b[0m",
      "\u001b[1m\u001b[30m|   \u001b[1m\u001b[30m    System.out.println(randomList); \u001b[0m",
      "\u001b[1m\u001b[30m|   \u001b[1m\u001b[30m}\u001b[0m",
      "\u001b[1m\u001b[31mUnresolved dependencies:\u001b[0m",
      "\u001b[1m\u001b[31m   - method initializeKeypad()\u001b[0m",
      "\u001b[1m\u001b[31m   - method reverseArray()\u001b[0m",
      "\u001b[1m\u001b[31m   - method initializeRandomList(int,int,int)\u001b[0m"
     ]
    }
   ],
   "source": [
    "public static void main(String[] args) {\n",
    "    System.out.println(\"Keypad\");\n",
    "    initializeKeypad();\n",
    "\n",
    "    System.out.println(\"\\nReversed Array:\");\n",
    "    reverseArray();\n",
    "\n",
    "    System.out.println(\"\\n\\nRandom List:\");\n",
    "    ArrayList<Integer> randomList = initializeRandomList(5, 2, 8);\n",
    "    System.out.println(randomList); \n",
    "}\n",
    "\n",
    "main(null);"
   ]
  }
 ],
 "metadata": {
  "kernelspec": {
   "display_name": "Java",
   "language": "java",
   "name": "java"
  },
  "language_info": {
   "codemirror_mode": "java",
   "file_extension": ".jshell",
   "mimetype": "text/x-java-source",
   "name": "java",
   "pygments_lexer": "java",
   "version": "17.0.5+9-LTS-191"
  },
  "orig_nbformat": 4
 },
 "nbformat": 4,
 "nbformat_minor": 2
}
